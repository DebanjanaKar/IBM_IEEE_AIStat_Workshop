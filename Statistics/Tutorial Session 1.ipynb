{
 "cells": [
  {
   "cell_type": "code",
   "execution_count": null,
   "id": "fa007ca4",
   "metadata": {},
   "outputs": [],
   "source": [
    "import numpy as np"
   ]
  },
  {
   "cell_type": "markdown",
   "id": "48fdbf21",
   "metadata": {},
   "source": [
    "# Dataset generation"
   ]
  },
  {
   "cell_type": "code",
   "execution_count": null,
   "id": "6098ad4e",
   "metadata": {},
   "outputs": [],
   "source": [
    "#GENERATE THE POINTS FOR UNDERSTANDING DECISION REGION\n",
    "\n",
    "p1 = np.linspace(-3,6,50)\n",
    "p2 = np.linspace(-3,6,50)\n",
    "pr = []\n",
    "for i in p1:\n",
    "    for j in p2:\n",
    "        pr.append([i,j])\n",
    "pr = np.array(pr)"
   ]
  },
  {
   "cell_type": "markdown",
   "id": "891d04a6",
   "metadata": {},
   "source": [
    "# Bayes Classifier, Case 1"
   ]
  },
  {
   "cell_type": "code",
   "execution_count": null,
   "id": "77c5435d",
   "metadata": {},
   "outputs": [],
   "source": [
    "#parameter initialization\n",
    "\n",
    "pw1 = 0.5\n",
    "pw2 = 0.5\n",
    "mu1 = np.array([3,3])\n",
    "mu2 = np.array([0,0])\n",
    "sigma = 0.5\n",
    "dim = 2\n",
    "n_samples = 100\n",
    "I = np.eye(2, dtype=int)"
   ]
  },
  {
   "cell_type": "code",
   "execution_count": null,
   "id": "9d1d8e30",
   "metadata": {},
   "outputs": [],
   "source": [
    "# Creating scatter points for two classes\n",
    "\n",
    "x1 = np.random.multivariate_normal(mu1, sigma*I, n_samples)\n",
    "x2 = np.random.multivariate_normal(mu2, sigma*I, n_samples)\n",
    "y1 = np.array([0]*n_samples)\n",
    "y2 = np.array([1]*n_samples)\n",
    "x = np.vstack((x1,x2))\n",
    "y_true = np.hstack((y1,y2))"
   ]
  },
  {
   "cell_type": "code",
   "execution_count": null,
   "id": "ea5a35e8",
   "metadata": {},
   "outputs": [],
   "source": [
    "import matplotlib.pyplot as plt\n",
    "  \n",
    "plt.plot(pr[:,0], pr[:,1],'.m')\n",
    "plt.plot(x1[:,0], x1[:,1],'*k')\n",
    "plt.plot(x2[:,0], x2[:,1],'*k')\n",
    "plt.show()"
   ]
  },
  {
   "cell_type": "code",
   "execution_count": null,
   "id": "1bf0a4ab",
   "metadata": {},
   "outputs": [],
   "source": [
    "# constant calculation\n",
    "def parameter_calculate_case1(mu1,mu2,sigma, pw1,pw2):\n",
    "    w = mu1-mu2\n",
    "    x0 = 0.5*(mu1+mu2)-(sigma*sigma/np.linalg.norm(mu1-mu2))*(pw1/pw2)*(mu1-mu2)\n",
    "    return w,x0\n",
    "\n",
    "# classifier\n",
    "def classify_case1(w,x0,x):\n",
    "    return np.dot(w,(x-x0))\n"
   ]
  },
  {
   "cell_type": "code",
   "execution_count": null,
   "id": "e32bf504",
   "metadata": {},
   "outputs": [],
   "source": [
    "w, x0 = parameter_calculate_case1(mu1,mu2,sigma, pw1,pw2)\n",
    "\n",
    "# Classify points in Decision region\n",
    "y_dr = []\n",
    "for p in pr:\n",
    "    temp = classify_case1(w,x0,p)\n",
    "    if temp>0:\n",
    "        y_dr.append(0)\n",
    "    else:\n",
    "        y_dr.append(1)\n",
    "        \n",
    "#Classify points in blobs\n",
    "y_pred = []\n",
    "for xi in x:\n",
    "    temp = classify_case1(w,x0,xi)\n",
    "    if temp>0:\n",
    "        y_pred.append(0)\n",
    "    else:\n",
    "        y_pred.append(1)"
   ]
  },
  {
   "cell_type": "code",
   "execution_count": null,
   "id": "23a31b81",
   "metadata": {},
   "outputs": [],
   "source": [
    "# Classification result visualization\n",
    "for i,p in enumerate(pr):\n",
    "    if y_dr[i]==1:\n",
    "        plt.plot(p[0], p[1],'.y')\n",
    "    else:\n",
    "        plt.plot(p[0], p[1],'.c')\n",
    "\n",
    "for i,xi in enumerate(x):\n",
    "    if y_pred[i]==1:\n",
    "        plt.plot(xi[0], xi[1],'*r')\n",
    "    else:\n",
    "        plt.plot(xi[0], xi[1],'*b')\n",
    "plt.show()\n",
    "\n",
    "print(\"Accuracy: \"+str(sum(y_true==y_pred)/len(y_pred)))"
   ]
  },
  {
   "cell_type": "markdown",
   "id": "66d7ce3c",
   "metadata": {},
   "source": [
    "# Bayes Classifier: Case 2"
   ]
  },
  {
   "cell_type": "code",
   "execution_count": null,
   "id": "ea4034cd",
   "metadata": {},
   "outputs": [],
   "source": [
    "#parameter initialization\n",
    "\n",
    "pw1 = 0.5\n",
    "pw2 = 0.5\n",
    "mu1 = np.array([3,3])\n",
    "mu2 = np.array([0,0])\n",
    "cov_mat = np.array([[0.6,0.4],[0.4,0.6]])\n",
    "n_samples = 100"
   ]
  },
  {
   "cell_type": "code",
   "execution_count": null,
   "id": "92478695",
   "metadata": {},
   "outputs": [],
   "source": [
    "# Creating scatter points for two classes\n",
    "\n",
    "x1 = np.random.multivariate_normal(mu1, cov_mat, n_samples)\n",
    "x2 = np.random.multivariate_normal(mu2, cov_mat, n_samples)\n",
    "y1 = np.array([0]*n_samples)\n",
    "y2 = np.array([1]*n_samples)\n",
    "x = np.vstack((x1,x2))\n",
    "y_true = np.hstack((y1,y2))"
   ]
  },
  {
   "cell_type": "code",
   "execution_count": null,
   "id": "ccdcf3e7",
   "metadata": {},
   "outputs": [],
   "source": [
    "import matplotlib.pyplot as plt\n",
    "  \n",
    "plt.plot(pr[:,0], pr[:,1],'.m')\n",
    "plt.plot(x1[:,0], x1[:,1],'*k')\n",
    "plt.plot(x2[:,0], x2[:,1],'*k')\n",
    "plt.show()"
   ]
  },
  {
   "cell_type": "code",
   "execution_count": null,
   "id": "5ce1e2fd",
   "metadata": {},
   "outputs": [],
   "source": [
    "# constant calculation\n",
    "def parameter_calculate_case2(mu1,mu2,cov_mat, pw1,pw2):\n",
    "    w = np.matmul(np.linalg.inv(cov_mat),(mu1-mu2))\n",
    "    x0 = 0.5*(mu1+mu2)-np.log(pw1/pw2)*(mu1-mu2)/(np.matmul(np.matmul(mu1-mu2,np.linalg.inv(cov_mat)),(mu1-mu2)))\n",
    "    return w,x0\n",
    "\n",
    "# classifier\n",
    "def classify_case2(w,x0,x):\n",
    "    return np.dot(w,(x-x0))\n"
   ]
  },
  {
   "cell_type": "code",
   "execution_count": null,
   "id": "8cb3a1a3",
   "metadata": {},
   "outputs": [],
   "source": [
    "w,x0 = parameter_calculate_case2(mu1,mu2,cov_mat, pw1,pw2)\n",
    "# Classify points in Decision region\n",
    "y_dr = []\n",
    "for p in pr:\n",
    "    temp = classify_case2(w,x0,p)\n",
    "    if temp>0:\n",
    "        y_dr.append(0)\n",
    "    else:\n",
    "        y_dr.append(1)\n",
    "        \n",
    "#Classify points in blobs\n",
    "y_pred = []\n",
    "for xi in x:\n",
    "    temp = classify_case2(w,x0,xi)\n",
    "    if temp>0:\n",
    "        y_pred.append(0)\n",
    "    else:\n",
    "        y_pred.append(1)"
   ]
  },
  {
   "cell_type": "code",
   "execution_count": null,
   "id": "5d0036b3",
   "metadata": {},
   "outputs": [],
   "source": [
    "# Classification result visualization\n",
    "for i,p in enumerate(pr):\n",
    "    if y_dr[i]==1:\n",
    "        plt.plot(p[0], p[1],'.y')\n",
    "    else:\n",
    "        plt.plot(p[0], p[1],'.c')\n",
    "\n",
    "for i,xi in enumerate(x):\n",
    "    if y_pred[i]==1:\n",
    "        plt.plot(xi[0], xi[1],'*r')\n",
    "    else:\n",
    "        plt.plot(xi[0], xi[1],'*b')\n",
    "plt.show()\n",
    "\n",
    "print(\"Accuracy: \"+str(sum(y_true==y_pred)/len(y_pred)))"
   ]
  },
  {
   "cell_type": "markdown",
   "id": "1a770fe3",
   "metadata": {},
   "source": [
    "# Bayes Classifier: Case 3"
   ]
  },
  {
   "cell_type": "code",
   "execution_count": null,
   "id": "cd3abaa2",
   "metadata": {},
   "outputs": [],
   "source": [
    "#parameter initialization\n",
    "\n",
    "pw1 = 0.5\n",
    "pw2 = 0.5\n",
    "mu1 = np.array([3,3])\n",
    "mu2 = np.array([0,0])\n",
    "cov_mat1 = np.array([[0.6,0.4],[0.4,0.6]])\n",
    "cov_mat2 = np.array([[1,0],[0,1]])\n",
    "n_samples = 100"
   ]
  },
  {
   "cell_type": "code",
   "execution_count": null,
   "id": "c485617b",
   "metadata": {},
   "outputs": [],
   "source": [
    "# Creating scatter points for two classes\n",
    "\n",
    "x1 = np.random.multivariate_normal(mu1, cov_mat1, n_samples)\n",
    "x2 = np.random.multivariate_normal(mu2, cov_mat2, n_samples)\n",
    "y1 = np.array([0]*n_samples)\n",
    "y2 = np.array([1]*n_samples)\n",
    "x = np.vstack((x1,x2))\n",
    "y_true = np.hstack((y1,y2))"
   ]
  },
  {
   "cell_type": "code",
   "execution_count": null,
   "id": "b29eef2b",
   "metadata": {},
   "outputs": [],
   "source": [
    "import matplotlib.pyplot as plt\n",
    "  \n",
    "plt.plot(pr[:,0], pr[:,1],'.m')\n",
    "plt.plot(x1[:,0], x1[:,1],'*k')\n",
    "plt.plot(x2[:,0], x2[:,1],'*k')\n",
    "plt.show()"
   ]
  },
  {
   "cell_type": "code",
   "execution_count": null,
   "id": "e634f2b5",
   "metadata": {},
   "outputs": [],
   "source": [
    "# constant calculation\n",
    "def parameter_calculate_case3(mu1,mu2,cov_mat1, cov_mat2, pw1,pw2):\n",
    "    W1 = -0.5*np.linalg.inv(cov_mat1)\n",
    "    w1 = np.matmul(np.linalg.inv(cov_mat1),mu1)\n",
    "    x10 = -0.5*np.matmul(np.matmul(mu1,np.linalg.inv(cov_mat1)),(mu1))-0.5*np.log(np.linalg.det(cov_mat1))+np.log(pw1)\n",
    "    W2 = -0.5*np.linalg.inv(cov_mat2)\n",
    "    w2 = np.matmul(np.linalg.inv(cov_mat2),mu2)\n",
    "    x20 = -0.5*np.matmul(np.matmul(mu2,np.linalg.inv(cov_mat2)),(mu2))-0.5*np.log(np.linalg.det(cov_mat2))+np.log(pw2)\n",
    "    return W1,w1,x10,W2,w2,x20\n",
    "\n",
    "# classifier\n",
    "def classify_case3(W1,w1,x10,W2,w2,x20,x):\n",
    "    g1 = np.matmul(np.matmul(x,W1),x)+np.matmul(w1,x)+x10\n",
    "    g2 = np.matmul(np.matmul(x,W2),x)+np.matmul(w2,x)+x20\n",
    "    return g1-g2\n",
    "\n"
   ]
  },
  {
   "cell_type": "code",
   "execution_count": null,
   "id": "a0227622",
   "metadata": {},
   "outputs": [],
   "source": [
    "W1,w1,x10,W2,w2,x20 = parameter_calculate_case3(mu1,mu2,cov_mat1, cov_mat2, pw1,pw2)\n",
    "# Classify points in Decision region\n",
    "y_dr = []\n",
    "for p in pr:\n",
    "    if classify_case3(W1,w1,x10,W2,w2,x20,p)>0:\n",
    "        y_dr.append(0)\n",
    "    else:\n",
    "        y_dr.append(1)\n",
    "        \n",
    "#Classify points in blobs\n",
    "y_pred = []\n",
    "for xi in x:\n",
    "    if classify_case3(W1,w1,x10,W2,w2,x20,xi)>0:\n",
    "        y_pred.append(0)\n",
    "    else:\n",
    "        y_pred.append(1)"
   ]
  },
  {
   "cell_type": "code",
   "execution_count": null,
   "id": "98e92234",
   "metadata": {},
   "outputs": [],
   "source": [
    "# Classification result visualization\n",
    "for i,p in enumerate(pr):\n",
    "    if y_dr[i]==1:\n",
    "        plt.plot(p[0], p[1],'.y')\n",
    "    else:\n",
    "        plt.plot(p[0], p[1],'.c')\n",
    "\n",
    "for i,xi in enumerate(x):\n",
    "    if y_pred[i]==1:\n",
    "        plt.plot(xi[0], xi[1],'*r')\n",
    "    else:\n",
    "        plt.plot(xi[0], xi[1],'*b')\n",
    "plt.show()\n",
    "\n",
    "print(\"Accuracy: \"+str(sum(y_true==y_pred)/len(y_pred)))"
   ]
  },
  {
   "cell_type": "markdown",
   "id": "7da19878",
   "metadata": {},
   "source": [
    "# Naive Bayes"
   ]
  },
  {
   "cell_type": "code",
   "execution_count": null,
   "id": "4f89b333",
   "metadata": {},
   "outputs": [],
   "source": [
    "from sklearn.naive_bayes import GaussianNB\n",
    "clf = GaussianNB()\n",
    "clf.fit(x, y_true)\n",
    "y_dr = clf.predict(pr)"
   ]
  },
  {
   "cell_type": "code",
   "execution_count": null,
   "id": "bbea2d4b",
   "metadata": {},
   "outputs": [],
   "source": [
    "# Classification result visualization\n",
    "for i,p in enumerate(pr):\n",
    "    if y_dr[i]==1:\n",
    "        plt.plot(p[0], p[1],'.y')\n",
    "    else:\n",
    "        plt.plot(p[0], p[1],'.c')\n",
    "\n",
    "plt.plot(x1[:,0], x1[:,1],'*r')\n",
    "plt.plot(x2[:,0], x2[:,1],'*b')\n",
    "plt.show()\n"
   ]
  },
  {
   "cell_type": "markdown",
   "id": "0ff131d5",
   "metadata": {},
   "source": [
    "# Bias Variance Tradeoff"
   ]
  },
  {
   "cell_type": "code",
   "execution_count": null,
   "id": "d0da3d56",
   "metadata": {},
   "outputs": [],
   "source": [
    "# Genarate Moon+blob data\n",
    "\n",
    "import sklearn\n",
    "from sklearn import datasets\n",
    "n_samples = 100\n",
    "x,y = datasets.make_moons(n_samples=n_samples, shuffle=False, noise=None, random_state=None)\n",
    "x1 = x[0:int(n_samples/2)]\n",
    "y1 = y[0:int(n_samples/2)]\n",
    "x2 = np.random.multivariate_normal([0,0], [[0.03,0],[0,0.03]], int(n_samples/2))\n",
    "y2 = np.array([1]*int(n_samples/2))\n",
    "x = np.vstack((x1,x2))\n",
    "y = np.hstack((y1,y2))\n",
    "y_true = y\n",
    "\n",
    "\n",
    "#GENERATE THE POINTS FOR UNDERSTANDING DECISION REGION\n",
    "\n",
    "p1 = np.linspace(-1.2,1.2,50)\n",
    "p2 = np.linspace(-0.6,1.3,50)\n",
    "pr = []\n",
    "for i in p1:\n",
    "    for j in p2:\n",
    "        pr.append([i,j])\n",
    "pr = np.array(pr)\n",
    "\n",
    "plt.plot(pr[:,0], pr[:,1],'.m')\n",
    "plt.plot(x1[:,0], x1[:,1],'*k')\n",
    "plt.plot(x2[:,0], x2[:,1],'*k')\n",
    "plt.show()"
   ]
  },
  {
   "cell_type": "code",
   "execution_count": null,
   "id": "ecad5f37",
   "metadata": {
    "scrolled": true
   },
   "outputs": [],
   "source": [
    "#Bayes Classifier Case 1\n",
    "pw1 = 0.5\n",
    "pw2 = 0.5\n",
    "mu1 = np.mean(x1, axis=0)\n",
    "mu2 = np.mean(x2, axis=0)\n",
    "sigma = 0.5*(np.std(x1)+np.std(x2))\n",
    "\n",
    "\n",
    "w, x0 = parameter_calculate_case1(mu1,mu2,sigma, pw1,pw2)\n",
    "\n",
    "#Classify points in blobs\n",
    "y_pred = []\n",
    "for xi in x:\n",
    "    temp = classify_case1(w,x0,xi)\n",
    "    if temp>0:\n",
    "        y_pred.append(0)\n",
    "    else:\n",
    "        y_pred.append(1)\n",
    "y_pred_m1 = y_pred\n",
    "#Classify points in DR\n",
    "y_dr = []\n",
    "for p in pr:\n",
    "    temp = classify_case1(w,x0,p)\n",
    "    if temp>0:\n",
    "        y_dr.append(0)\n",
    "    else:\n",
    "        y_dr.append(1)\n",
    "\n",
    "#Plot and Visualization\n",
    "for i,p in enumerate(pr):\n",
    "    if y_dr[i]==1:\n",
    "        plt.plot(p[0], p[1],'.y')\n",
    "    else:\n",
    "        plt.plot(p[0], p[1],'.c')        \n",
    "for i,xi in enumerate(x):\n",
    "    if y_pred[i]==1:\n",
    "        plt.plot(xi[0], xi[1],'*r')\n",
    "    else:\n",
    "        plt.plot(xi[0], xi[1],'*b')\n",
    "plt.show()\n",
    "\n",
    "print(\"Accuracy: \"+str(sum(y_true==y_pred)/len(y_pred)))"
   ]
  },
  {
   "cell_type": "code",
   "execution_count": null,
   "id": "f08f84ca",
   "metadata": {},
   "outputs": [],
   "source": [
    "#Bayes Classifier Case 2\n",
    "pw1 = 0.5\n",
    "pw2 = 0.5\n",
    "mu1 = np.mean(x1, axis=0)\n",
    "mu2 = np.mean(x2, axis=0)\n",
    "cov_mat1 = np.cov(x1.T)\n",
    "cov_mat2 = np.cov(x2.T)\n",
    "cov_mat = 0.5*(cov_mat1+cov_mat2)\n",
    "\n",
    "\n",
    "w, x0 = parameter_calculate_case2(mu1,mu2,cov_mat, pw1,pw2)\n",
    "\n",
    "#Classify points in blobs\n",
    "y_pred = []\n",
    "for xi in x:\n",
    "    temp = classify_case2(w,x0,xi)\n",
    "    if temp>0:\n",
    "        y_pred.append(0)\n",
    "    else:\n",
    "        y_pred.append(1)\n",
    "y_pred_m2 = y_pred\n",
    "#Classify points in DR\n",
    "y_dr = []\n",
    "for p in pr:\n",
    "    temp = classify_case2(w,x0,p)\n",
    "    if temp>0:\n",
    "        y_dr.append(0)\n",
    "    else:\n",
    "        y_dr.append(1)\n",
    "\n",
    "#Plot and Visualization\n",
    "for i,p in enumerate(pr):\n",
    "    if y_dr[i]==1:\n",
    "        plt.plot(p[0], p[1],'.y')\n",
    "    else:\n",
    "        plt.plot(p[0], p[1],'.c')        \n",
    "for i,xi in enumerate(x):\n",
    "    if y_pred[i]==1:\n",
    "        plt.plot(xi[0], xi[1],'*r')\n",
    "    else:\n",
    "        plt.plot(xi[0], xi[1],'*b')\n",
    "plt.show()\n",
    "\n",
    "print(\"Accuracy: \"+str(sum(y_true==y_pred)/len(y_pred)))"
   ]
  },
  {
   "cell_type": "code",
   "execution_count": null,
   "id": "1d909b28",
   "metadata": {},
   "outputs": [],
   "source": [
    "#Bayes Classifier Case 3\n",
    "pw1 = 0.5\n",
    "pw2 = 0.5\n",
    "mu1 = np.mean(x1, axis=0)\n",
    "mu2 = np.mean(x2, axis=0)\n",
    "cov_mat1 = np.cov(x1.T)\n",
    "cov_mat2 = np.cov(x2.T)\n",
    "\n",
    "W1,w1,x10,W2,w2,x20 = parameter_calculate_case3(mu1,mu2,cov_mat1, cov_mat2, pw1,pw2)\n",
    "#Classify points in blobs\n",
    "y_pred = []\n",
    "for xi in x:\n",
    "    if classify_case3(W1,w1,x10,W2,w2,x20,xi)>0:\n",
    "        y_pred.append(0)\n",
    "    else:\n",
    "        y_pred.append(1)\n",
    "y_pred_m3 = y_pred\n",
    "# Classify points in Decision region\n",
    "y_dr = []\n",
    "for p in pr:\n",
    "    if classify_case3(W1,w1,x10,W2,w2,x20,p)>0:\n",
    "        y_dr.append(0)\n",
    "    else:\n",
    "        y_dr.append(1)\n",
    "\n",
    "# Classification result visualization\n",
    "for i,p in enumerate(pr):\n",
    "    if y_dr[i]==1:\n",
    "        plt.plot(p[0], p[1],'.y')\n",
    "    else:\n",
    "        plt.plot(p[0], p[1],'.c')        \n",
    "for i,xi in enumerate(x):\n",
    "    if y_pred[i]==1:\n",
    "        plt.plot(xi[0], xi[1],'*r')\n",
    "    else:\n",
    "        plt.plot(xi[0], xi[1],'*b')\n",
    "plt.show()\n",
    "\n",
    "print(\"Accuracy: \"+str(sum(y_true==y_pred)/len(y_pred)))"
   ]
  },
  {
   "cell_type": "markdown",
   "id": "09644dd6",
   "metadata": {},
   "source": [
    "# McNemar Test"
   ]
  },
  {
   "cell_type": "code",
   "execution_count": null,
   "id": "08543455",
   "metadata": {},
   "outputs": [],
   "source": [
    "# Example of calculating the mcnemar test\n",
    "from statsmodels.stats.contingency_tables import mcnemar\n",
    "\n",
    "# build contingency table\n",
    "y_pred_m1_correct = y_pred_m1==y_true\n",
    "y_pred_m2_correct = y_pred_m2==y_true\n",
    "c11 = sum([1 for i in range(len(y_pred_m1_correct)) if y_pred_m1_correct[i]==True and y_pred_m2_correct[i]==True])\n",
    "c10 = sum([1 for i in range(len(y_pred_m1_correct)) if y_pred_m1_correct[i]==True and y_pred_m2_correct[i]==False])\n",
    "c01 = sum([1 for i in range(len(y_pred_m1_correct)) if y_pred_m1_correct[i]==False and y_pred_m2_correct[i]==True])\n",
    "c00 = sum([1 for i in range(len(y_pred_m1_correct)) if y_pred_m1_correct[i]==False and y_pred_m2_correct[i]==False])\n",
    "table = [[c11, c10],[c01, c00]]\n",
    "\n",
    "\n",
    "# calculate mcnemar test\n",
    "result = mcnemar(table, exact=True)\n",
    "# summarize the finding\n",
    "print('statistic=%.3f, p-value=%.3f' % (result.statistic, result.pvalue))\n",
    "# interpret the p-value\n",
    "alpha = 0.05\n",
    "if result.pvalue > alpha:\n",
    "    print('Same proportions of errors (fail to reject H0)')\n",
    "    print('Both the models perform equally')\n",
    "else:\n",
    "    print('Different proportions of errors (reject H0)')\n",
    "    print('One model is better than the other')"
   ]
  },
  {
   "cell_type": "code",
   "execution_count": null,
   "id": "9ec21098",
   "metadata": {},
   "outputs": [],
   "source": []
  }
 ],
 "metadata": {
  "kernelspec": {
   "display_name": "Python 3 (ipykernel)",
   "language": "python",
   "name": "python3"
  },
  "language_info": {
   "codemirror_mode": {
    "name": "ipython",
    "version": 3
   },
   "file_extension": ".py",
   "mimetype": "text/x-python",
   "name": "python",
   "nbconvert_exporter": "python",
   "pygments_lexer": "ipython3",
   "version": "3.8.13"
  }
 },
 "nbformat": 4,
 "nbformat_minor": 5
}
